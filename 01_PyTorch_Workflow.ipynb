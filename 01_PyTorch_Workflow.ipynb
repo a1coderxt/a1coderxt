{
  "nbformat": 4,
  "nbformat_minor": 0,
  "metadata": {
    "colab": {
      "provenance": [],
      "authorship_tag": "ABX9TyNJeLKrh5ObbvKb4bTpSKDU",
      "include_colab_link": true
    },
    "kernelspec": {
      "name": "python3",
      "display_name": "Python 3"
    },
    "language_info": {
      "name": "python"
    }
  },
  "cells": [
    {
      "cell_type": "markdown",
      "metadata": {
        "id": "view-in-github",
        "colab_type": "text"
      },
      "source": [
        "<a href=\"https://colab.research.google.com/github/a1coderxt/a1coderxt/blob/main/01_PyTorch_Workflow.ipynb\" target=\"_parent\"><img src=\"https://colab.research.google.com/assets/colab-badge.svg\" alt=\"Open In Colab\"/></a>"
      ]
    },
    {
      "cell_type": "markdown",
      "source": [
        "## Let's Explore PyTorch workflow"
      ],
      "metadata": {
        "id": "lI6vORfVQh_A"
      }
    },
    {
      "cell_type": "code",
      "execution_count": 31,
      "metadata": {
        "colab": {
          "base_uri": "https://localhost:8080/",
          "height": 36
        },
        "id": "0IDPKQDKNUgS",
        "outputId": "19ddb8b6-1060-406a-f61b-2eb8df94ea12"
      },
      "outputs": [
        {
          "output_type": "execute_result",
          "data": {
            "text/plain": [
              "'2.6.0+cu124'"
            ],
            "application/vnd.google.colaboratory.intrinsic+json": {
              "type": "string"
            }
          },
          "metadata": {},
          "execution_count": 31
        }
      ],
      "source": [
        "import torch\n",
        "from torch import nn ##nn contains all the pytorch's building blocks for neural network\n",
        "import pandas as pd\n",
        "import numpy as np\n",
        "import matplotlib.pyplot as plt\n",
        "torch.__version__"
      ]
    },
    {
      "cell_type": "markdown",
      "source": [
        "Create device-agnostic code.\n",
        "\n",
        "This means if we've got the access to a GPU, our code will use it\n",
        "\n",
        "if no gpu is available , the code will default to using CPU"
      ],
      "metadata": {
        "id": "rg3nCXbyzob0"
      }
    },
    {
      "cell_type": "code",
      "source": [
        "# Setup device agnostic code\n",
        "\n",
        "device = \"cuda\" if torch.cuda.is_available() else \"cpu\"\n",
        "print(f\"Using device: {device}\")"
      ],
      "metadata": {
        "colab": {
          "base_uri": "https://localhost:8080/"
        },
        "id": "5Pjv1Y7Jy_FF",
        "outputId": "61b3b351-7196-4bb2-dae4-be8d2c808013"
      },
      "execution_count": 32,
      "outputs": [
        {
          "output_type": "stream",
          "name": "stdout",
          "text": [
            "Using device: cpu\n"
          ]
        }
      ]
    },
    {
      "cell_type": "markdown",
      "source": [
        "## 1. Data (Preparing and loading)\n",
        "\n",
        "Data can be almost anything ... in ML\n",
        "\n",
        "* Excel spreadsheet\n",
        "* Image of any kind\n",
        "* Videos (Youttube has a lot of data)\n",
        "* Audio like songs or podcasts\n",
        "* DNA\n",
        "* TEXT\n",
        "\n",
        "Machine learning is a game of two parts:\n",
        "\n",
        " 1. Get data into a numerical representation\n",
        " 2. Build a model to learn pattern in that numerical representation\n",
        "\n",
        "To showcase this let's create some *know* data using the **Linear Regression**\n",
        " formula\n",
        "\n",
        " we'll use a linear regression formula to make a straight line with *know* **parameters**"
      ],
      "metadata": {
        "id": "M_i3uRE7TIm6"
      }
    },
    {
      "cell_type": "code",
      "source": [
        "#Create *known* parameters\n",
        "\n",
        "weight = 0.7\n",
        "bias =0.3\n",
        "\n",
        "#Create\n",
        "start = 0\n",
        "end = 1\n",
        "step = 0.2\n",
        "\n",
        "# Create X and y as feature and label (this is how we conver the data into tensor)\n",
        "X = torch.arange(start , end , step).unsqueeze(dim=1)\n",
        "y = weight * X + bias\n",
        "\n",
        "X[:10] , y[:10]"
      ],
      "metadata": {
        "colab": {
          "base_uri": "https://localhost:8080/"
        },
        "id": "w-Jswd_-VB3K",
        "outputId": "d7f96115-3993-4786-d0ec-c6cd3bebbbae"
      },
      "execution_count": 33,
      "outputs": [
        {
          "output_type": "execute_result",
          "data": {
            "text/plain": [
              "(tensor([[0.0000],\n",
              "         [0.2000],\n",
              "         [0.4000],\n",
              "         [0.6000],\n",
              "         [0.8000]]),\n",
              " tensor([[0.3000],\n",
              "         [0.4400],\n",
              "         [0.5800],\n",
              "         [0.7200],\n",
              "         [0.8600]]))"
            ]
          },
          "metadata": {},
          "execution_count": 33
        }
      ]
    },
    {
      "cell_type": "code",
      "source": [
        "len(X) , len(y)"
      ],
      "metadata": {
        "colab": {
          "base_uri": "https://localhost:8080/"
        },
        "id": "OJjxrzkqVpOs",
        "outputId": "dce56210-fd95-43fd-f85f-32751f9d3705"
      },
      "execution_count": 34,
      "outputs": [
        {
          "output_type": "execute_result",
          "data": {
            "text/plain": [
              "(5, 5)"
            ]
          },
          "metadata": {},
          "execution_count": 34
        }
      ]
    },
    {
      "cell_type": "markdown",
      "source": [
        "### Splitting data into training and test set most important concept of ml"
      ],
      "metadata": {
        "id": "42JY4eyJWUX1"
      }
    },
    {
      "cell_type": "code",
      "source": [
        "# Create a train/test split  this is not the ideal way\n",
        "train__split = int(0.8 * len(X))\n",
        "X_train  , y_train = X[:train__split] , y[:train__split]\n",
        "X_test , y_test = X[train__split:] , y[train__split:]\n",
        "\n",
        "len(X_train) ,len(y_train) , len(X_test) , len(y_test)\n"
      ],
      "metadata": {
        "colab": {
          "base_uri": "https://localhost:8080/"
        },
        "id": "p2yVX6-wVy6D",
        "outputId": "3c1befd0-d5f5-4e08-cf18-b343d1e1857d"
      },
      "execution_count": 35,
      "outputs": [
        {
          "output_type": "execute_result",
          "data": {
            "text/plain": [
              "(4, 4, 1, 1)"
            ]
          },
          "metadata": {},
          "execution_count": 35
        }
      ]
    },
    {
      "cell_type": "markdown",
      "source": [
        "How might we better visualize out data?"
      ],
      "metadata": {
        "id": "JAxdzKyLYYkC"
      }
    },
    {
      "cell_type": "code",
      "source": [
        "\n",
        "def plot_predictions(train_data= X_train,\n",
        "                     train_labels=y_train,\n",
        "                     test_data=X_test,\n",
        "                     test_labels=y_test,\n",
        "                     predictions=None):\n",
        "  plt.figure(figsize=(10, 7))\n",
        "\n",
        "  plt.scatter(train_data , train_labels , c=\"b\" , s=4 , label =\"Training data\")\n",
        "\n",
        "  plt.scatter(test_data , test_labels , c=\"g\" , s=4 , label = \"Testing data\")\n",
        "\n",
        "  if predictions is not None:\n",
        "    plt.scatter(test_data , predictions, c=\"r\", s=4 , label=\"predictions\")\n",
        "\n",
        "  plt.legend(prop={\"size\" : 14});"
      ],
      "metadata": {
        "id": "UnS6SU7BYLG9"
      },
      "execution_count": 36,
      "outputs": []
    },
    {
      "cell_type": "code",
      "source": [
        "plot_predictions()"
      ],
      "metadata": {
        "colab": {
          "base_uri": "https://localhost:8080/",
          "height": 471
        },
        "id": "fqSl-t5hZ3Nv",
        "outputId": "0a52f5de-a7cb-4234-de85-a9da6f6035a9"
      },
      "execution_count": 37,
      "outputs": [
        {
          "output_type": "display_data",
          "data": {
            "text/plain": [
              "<Figure size 1000x700 with 1 Axes>"
            ],
            "image/png": "[encoded data removed]"
          },
          "metadata": {}
        }
      ]
    },
    {
      "cell_type": "markdown",
      "source": [
        "## Building MOdel\n",
        "\n",
        "Our frist PyTorch Model!\n",
        "\n",
        "\n",
        "What our model does:\n",
        "* Start with random values (weights & bias)\n",
        "* Look at the training data and adjust the random values to better represent (or get closer too) the ideal values (the weight & bias value we used to create the data)\n",
        "\n",
        "How does it do so ?\n",
        "\n",
        "Through two main alogrithms:\n",
        "1. Gradient desent\n",
        "2. Backpropogation"
      ],
      "metadata": {
        "id": "aNzM83dkoaDA"
      }
    },
    {
      "cell_type": "code",
      "source": [
        " # create a Linear Regression model class\n",
        "from torch import nn\n",
        "\n",
        "class LinearRegressionModel(nn.Module):   # Almost every thing in pytorch inherite from nn module\n",
        "  def __init__(self):\n",
        "    super().__init__()\n",
        "    self.weights = nn.Parameter(torch.randn(1,\n",
        "                                           requires_grad=True,\n",
        "                                            dtype=torch.float))\n",
        "    self.bias = nn.Parameter(torch.randn(1,\n",
        "                                         requires_grad=True,\n",
        "                                         dtype=torch.float))\n",
        "\n",
        "    # Forward method to define the computation in the model\n",
        "  def forward(self, x: torch.tensor) -> torch.tensor:  # <- \"x\" is the input data\n",
        "      return self.weights * x  + self.bias  # this is the linear regression formula\n",
        "\n"
      ],
      "metadata": {
        "id": "e9m_ejaxoj1O"
      },
      "execution_count": 38,
      "outputs": []
    },
    {
      "cell_type": "markdown",
      "source": [
        "### PyTorch model building essentials\n",
        "\n",
        "* Torch.n - contains all of the bulding block for compuational graphs (a neural network can be consider as computational graph )\n",
        "* torch.nn .Parameter - what parameter should our model try and learn, ofter a pytorch layer from a torch.nn will set these for us\n",
        "* torch.nnModule - The base class for all neural network modules, if you subclass it , you should overwrite forward()\n",
        "* torch.optim - this is where the optimizers in PyTorch live, they wil help with the gredient descent\n",
        "* def forward() - All nn.Module subclasses required you to ovrewrite Forward(), this method defines what happens in the forward computation"
      ],
      "metadata": {
        "id": "S-LoKu4iz5ui"
      }
    },
    {
      "cell_type": "markdown",
      "source": [
        "### Checking the contents of our PyTorch model\n",
        "\n",
        "Now we've created a model , let's see what's inside..\n",
        "\n",
        "So we can check our model parameters or what inside our model using .parameters()\n"
      ],
      "metadata": {
        "id": "Ci9j49M03bSp"
      }
    },
    {
      "cell_type": "code",
      "source": [
        "# Creating a random seed\n",
        "torch.manual_seed(42)\n",
        "\n",
        "# Create an instance of the model(subclass of nn.Model)\n",
        "\n",
        "model_0 = LinearRegressionModel()\n",
        "\n",
        "\n",
        "#check out the parameteres\n",
        "list(model_0.parameters())"
      ],
      "metadata": {
        "colab": {
          "base_uri": "https://localhost:8080/"
        },
        "id": "5Nuv3cG81D-Y",
        "outputId": "70bfadb6-8036-48d7-8777-d5845ec11c10"
      },
      "execution_count": 39,
      "outputs": [
        {
          "output_type": "execute_result",
          "data": {
            "text/plain": [
              "[Parameter containing:\n",
              " tensor([0.3367], requires_grad=True),\n",
              " Parameter containing:\n",
              " tensor([0.1288], requires_grad=True)]"
            ]
          },
          "metadata": {},
          "execution_count": 39
        }
      ]
    },
    {
      "cell_type": "code",
      "source": [
        "# List name parameter\n",
        "model_0.state_dict()"
      ],
      "metadata": {
        "colab": {
          "base_uri": "https://localhost:8080/"
        },
        "id": "aU9fofE_4VFj",
        "outputId": "d48bef92-f537-4b72-aecd-8a1d5ad1a3ae"
      },
      "execution_count": 40,
      "outputs": [
        {
          "output_type": "execute_result",
          "data": {
            "text/plain": [
              "OrderedDict([('weights', tensor([0.3367])), ('bias', tensor([0.1288]))])"
            ]
          },
          "metadata": {},
          "execution_count": 40
        }
      ]
    },
    {
      "cell_type": "markdown",
      "source": [
        "### Making prediction using `tensor.inference_mode()`\n",
        "\n",
        "To check our model's predictive power, let's see how well it predicts y_test based on X_test\n",
        "\n",
        "when we pass data through our model, it's going to run it through the forward() method."
      ],
      "metadata": {
        "id": "eFVgjjSp5xOl"
      }
    },
    {
      "cell_type": "code",
      "source": [
        "# Make predictions with model\n",
        "\n",
        "with torch.inference_mode():\n",
        "  y_preds = model_0(X_test)\n",
        "\n",
        "# with torch.no_grad():  we can use this method too but torch.inference_mode() preffered!\n",
        "#   y_preds = model_0(X_test)\n",
        "\n",
        "y_preds"
      ],
      "metadata": {
        "colab": {
          "base_uri": "https://localhost:8080/"
        },
        "id": "hVGZU-LL6RLO",
        "outputId": "724066ee-a2c7-4a44-8ec1-600d30b36308"
      },
      "execution_count": 41,
      "outputs": [
        {
          "output_type": "execute_result",
          "data": {
            "text/plain": [
              "tensor([[0.3982]])"
            ]
          },
          "metadata": {},
          "execution_count": 41
        }
      ]
    },
    {
      "cell_type": "code",
      "source": [
        "y_test"
      ],
      "metadata": {
        "colab": {
          "base_uri": "https://localhost:8080/"
        },
        "id": "gTDBdUTD7EOx",
        "outputId": "fe87a27b-bc5b-423c-c3ed-001fab97614d"
      },
      "execution_count": 42,
      "outputs": [
        {
          "output_type": "execute_result",
          "data": {
            "text/plain": [
              "tensor([[0.8600]])"
            ]
          },
          "metadata": {},
          "execution_count": 42
        }
      ]
    },
    {
      "cell_type": "code",
      "source": [
        "plot_predictions(predictions=y_preds)"
      ],
      "metadata": {
        "colab": {
          "base_uri": "https://localhost:8080/",
          "height": 471
        },
        "id": "8apQ3r967ib2",
        "outputId": "08012656-8f38-4f45-d84d-0441213095b6"
      },
      "execution_count": 43,
      "outputs": [
        {
          "output_type": "display_data",
          "data": {
            "text/plain": [
              "<Figure size 1000x700 with 1 Axes>"
            ],
            "image/png": "[encoded data removed]"
          },
          "metadata": {}
        }
      ]
    },
    {
      "cell_type": "markdown",
      "source": [
        "## Training Model\n",
        "\n",
        "The whole idea for the training to move from some *unknow* parameter to *known* parameter\n",
        "\n",
        "One way to measure the loss or error is to use A Loss Functions :\n",
        "\n",
        "* Note : Loss function may also be called cost function or criterion in diffrent areas. For  our case , we're going to refer to it as a loss function\n",
        "\n",
        "\n",
        "This we need to train :\n",
        "\n",
        "* **Loss function :**  A function to measure how wrong your model's predictions are compare to the ideal outputs , lower is better\n",
        "\n",
        "* **Optimizer :** Take into account the loss of a model and adjusts the model's parameters (e.g. weights & bias in improve the loss function ad specifically for PyTorch we need a training loop and a testing loop)"
      ],
      "metadata": {
        "id": "Wok2wCZC9gRs"
      }
    },
    {
      "cell_type": "code",
      "source": [
        "list(model_0.parameters())"
      ],
      "metadata": {
        "colab": {
          "base_uri": "https://localhost:8080/"
        },
        "id": "y00IOu219ruw",
        "outputId": "d4f841a4-e0de-4a19-8a83-7294928f2538"
      },
      "execution_count": 44,
      "outputs": [
        {
          "output_type": "execute_result",
          "data": {
            "text/plain": [
              "[Parameter containing:\n",
              " tensor([0.3367], requires_grad=True),\n",
              " Parameter containing:\n",
              " tensor([0.1288], requires_grad=True)]"
            ]
          },
          "metadata": {},
          "execution_count": 44
        }
      ]
    },
    {
      "cell_type": "code",
      "source": [
        "model_0.state_dict()"
      ],
      "metadata": {
        "colab": {
          "base_uri": "https://localhost:8080/"
        },
        "id": "jm3MD2P4_XNs",
        "outputId": "61df2524-a48c-4419-aa9d-12b9da27ebde"
      },
      "execution_count": 45,
      "outputs": [
        {
          "output_type": "execute_result",
          "data": {
            "text/plain": [
              "OrderedDict([('weights', tensor([0.3367])), ('bias', tensor([0.1288]))])"
            ]
          },
          "metadata": {},
          "execution_count": 45
        }
      ]
    },
    {
      "cell_type": "code",
      "source": [
        "# Setup  loss function\n",
        "\n",
        "loss_fn = nn.L1Loss()\n",
        "\n",
        "\n",
        "# Setup optimzer function  torch.optim.SGD (stochastic gredient descent)\n",
        "optimizer = torch.optim.SGD(params = model_0.parameters(),\n",
        "                            lr=0.01)  # lr = learning rate = possibly the most important hyperparameters you can set\n"
      ],
      "metadata": {
        "id": "izOPYdXq_a91"
      },
      "execution_count": 46,
      "outputs": []
    },
    {
      "cell_type": "markdown",
      "source": [
        "### Building a training and testing loop in pytorch\n",
        "\n",
        "A couple of things we need in a training loop:\n",
        "0. Loop through the data\n",
        "1. Forward pass (this involves data moving through our model's `forward() functions` ) to make predictions on data - also called forward propagation\n",
        "2. calculate the loss ( compare forward pass predictions to ground truth abels)\n",
        "3. Optimizer zero grad\n",
        "4. Loss backward - move backward through the network to calculate the gredients of each of the parameters of our model with respect to the loss (**Backpropogation**)\n",
        "5. Optimizer step - use the optimizer to adjust our model's parameteres to try and improve the loss (**Gredient descent**)"
      ],
      "metadata": {
        "id": "GhwR66RYVBSJ"
      }
    },
    {
      "cell_type": "code",
      "source": [
        "torch.manual_seed(42)\n",
        "\n",
        "# Set the number of epochs (how many times the model will pass over the training data)\n",
        "epochs = 200\n",
        "\n",
        "# Create empty loss lists to track values\n",
        "train_loss_values = []\n",
        "test_loss_values = []\n",
        "epoch_count = []\n",
        "\n",
        "for epoch in range(epochs):\n",
        "    ### Training\n",
        "\n",
        "    #0. Put model in training mode (this is the default state of a model)\n",
        "    model_0.train()\n",
        "\n",
        "    # 1. Forward pass on train data using the forward() method inside\n",
        "    y_pred = model_0(X_train)\n",
        "    # print(y_pred)\n",
        "\n",
        "    # 2. Calculate the loss (how different are our models predictions to the ground truth)\n",
        "    loss = loss_fn(y_pred, y_train)\n",
        "\n",
        "    # 3. Zero grad of the optimizer\n",
        "    optimizer.zero_grad()\n",
        "\n",
        "    # 4. Loss backwards\n",
        "    loss.backward()\n",
        "\n",
        "    # 5. Progress the optimizer\n",
        "    optimizer.step()\n",
        "\n",
        "    ### Testing\n",
        "\n",
        "    # Put the model in evaluation mode\n",
        "    model_0.eval()\n",
        "\n",
        "    with torch.inference_mode():\n",
        "      # 1. Forward pass on test data\n",
        "      test_pred = model_0(X_test)\n",
        "\n",
        "      # 2. Caculate loss on test data\n",
        "      test_loss = loss_fn(test_pred, y_test.type(torch.float)) # predictions come in torch.float datatype, so comparisons need to be done with tensors of the same type\n",
        "\n",
        "      # Print out what's happening\n",
        "      if epoch % 10 == 0:\n",
        "            epoch_count.append(epoch)\n",
        "            train_loss_values.append(loss.detach().numpy())\n",
        "            test_loss_values.append(test_loss.detach().numpy())\n",
        "            print(f\"Epoch: {epoch} | MAE Train Loss: {loss} | MAE Test Loss: {test_loss} \")"
      ],
      "metadata": {
        "id": "OYSSktTKAdPx",
        "colab": {
          "base_uri": "https://localhost:8080/"
        },
        "outputId": "2f97e8e3-4bbd-46d4-e981-3b40fb560e13"
      },
      "execution_count": 47,
      "outputs": [
        {
          "output_type": "stream",
          "name": "stdout",
          "text": [
            "Epoch: 0 | MAE Train Loss: 0.28018349409103394 | MAE Test Loss: 0.44943830370903015 \n",
            "Epoch: 10 | MAE Train Loss: 0.1711834818124771 | MAE Test Loss: 0.32543832063674927 \n",
            "Epoch: 20 | MAE Train Loss: 0.0815882459282875 | MAE Test Loss: 0.2164384126663208 \n",
            "Epoch: 30 | MAE Train Loss: 0.05506197363138199 | MAE Test Loss: 0.15983855724334717 \n",
            "Epoch: 40 | MAE Train Loss: 0.05106198042631149 | MAE Test Loss: 0.1438385248184204 \n",
            "Epoch: 50 | MAE Train Loss: 0.04706195741891861 | MAE Test Loss: 0.12783849239349365 \n",
            "Epoch: 60 | MAE Train Loss: 0.043061964213848114 | MAE Test Loss: 0.1118384599685669 \n",
            "Epoch: 70 | MAE Train Loss: 0.03906197100877762 | MAE Test Loss: 0.09583842754364014 \n",
            "Epoch: 80 | MAE Train Loss: 0.035062022507190704 | MAE Test Loss: 0.07983863353729248 \n",
            "Epoch: 90 | MAE Train Loss: 0.03106207400560379 | MAE Test Loss: 0.06383883953094482 \n",
            "Epoch: 100 | MAE Train Loss: 0.02746211737394333 | MAE Test Loss: 0.05443906784057617 \n",
            "Epoch: 110 | MAE Train Loss: 0.024262160062789917 | MAE Test Loss: 0.05163919925689697 \n",
            "Epoch: 120 | MAE Train Loss: 0.02066219598054886 | MAE Test Loss: 0.04223942756652832 \n",
            "Epoch: 130 | MAE Train Loss: 0.01706225425004959 | MAE Test Loss: 0.03283953666687012 \n",
            "Epoch: 140 | MAE Train Loss: 0.013862289488315582 | MAE Test Loss: 0.030039668083190918 \n",
            "Epoch: 150 | MAE Train Loss: 0.010262340307235718 | MAE Test Loss: 0.020639896392822266 \n",
            "Epoch: 160 | MAE Train Loss: 0.00690469890832901 | MAE Test Loss: 0.017840027809143066 \n",
            "Epoch: 170 | MAE Train Loss: 0.00366239994764328 | MAE Test Loss: 0.009240150451660156 \n",
            "Epoch: 180 | MAE Train Loss: 0.003684200346469879 | MAE Test Loss: 0.004559755325317383 \n",
            "Epoch: 190 | MAE Train Loss: 0.003684200346469879 | MAE Test Loss: 0.004559755325317383 \n"
          ]
        }
      ]
    },
    {
      "cell_type": "code",
      "source": [
        "# Plot the loss curves\n",
        "plt.plot(epoch_count, train_loss_values, label=\"Train loss\")\n",
        "plt.plot(epoch_count, test_loss_values, label=\"Test loss\")\n",
        "plt.title(\"Training and test loss curves\")\n",
        "plt.ylabel(\"Loss\")\n",
        "plt.xlabel(\"Epochs\")\n",
        "plt.legend();"
      ],
      "metadata": {
        "colab": {
          "base_uri": "https://localhost:8080/",
          "height": 472
        },
        "id": "wkgtOQyi5Rfl",
        "outputId": "5ed3e07b-876f-4c3d-b33c-e429b7ebebf6"
      },
      "execution_count": 48,
      "outputs": [
        {
          "output_type": "display_data",
          "data": {
            "text/plain": [
              "<Figure size 640x480 with 1 Axes>"
            ],
            "image/png": "[encoded data removed]"
          },
          "metadata": {}
        }
      ]
    },
    {
      "cell_type": "code",
      "source": [
        "weight , bias"
      ],
      "metadata": {
        "colab": {
          "base_uri": "https://localhost:8080/"
        },
        "id": "z0eBxogG8SzJ",
        "outputId": "2f39b5f8-758c-4385-facc-f8f6f73eba8a"
      },
      "execution_count": 49,
      "outputs": [
        {
          "output_type": "execute_result",
          "data": {
            "text/plain": [
              "(0.7, 0.3)"
            ]
          },
          "metadata": {},
          "execution_count": 49
        }
      ]
    },
    {
      "cell_type": "code",
      "source": [
        "with torch.inference_mode():\n",
        "  y_preds_new = model_0(X_test)"
      ],
      "metadata": {
        "id": "R9-Y0_wy9W3i"
      },
      "execution_count": 50,
      "outputs": []
    },
    {
      "cell_type": "code",
      "source": [
        "model_0.state_dict()"
      ],
      "metadata": {
        "colab": {
          "base_uri": "https://localhost:8080/"
        },
        "id": "BIjUl1xc3rq6",
        "outputId": "4fae4344-cac3-466c-d0d3-b27e4fa930ef"
      },
      "execution_count": 51,
      "outputs": [
        {
          "output_type": "execute_result",
          "data": {
            "text/plain": [
              "OrderedDict([('weights', tensor([0.6917])), ('bias', tensor([0.2988]))])"
            ]
          },
          "metadata": {},
          "execution_count": 51
        }
      ]
    },
    {
      "cell_type": "code",
      "source": [
        "plot_predictions(predictions=y_preds_new)\n",
        "\n",
        "# we can see we are reducing the loss"
      ],
      "metadata": {
        "colab": {
          "base_uri": "https://localhost:8080/",
          "height": 471
        },
        "id": "5T6HhmW6-L_h",
        "outputId": "31f1d662-7040-46ab-eeef-096bcdecb8e6"
      },
      "execution_count": 52,
      "outputs": [
        {
          "output_type": "display_data",
          "data": {
            "text/plain": [
              "<Figure size 1000x700 with 1 Axes>"
            ],
            "image/png": "[encoded data removed]"
          },
          "metadata": {}
        }
      ]
    },
    {
      "cell_type": "markdown",
      "source": [
        "## Saving a model in PyTorch\n",
        "\n",
        "There are the main method for saving and loading model in PyTorch.\n",
        "\n",
        "1. `torch.save()` - allows you save a pytorch object in python's pickel formate\n",
        "2. `torch.load()` - allows you to load a saved PyTorch object or model\n",
        "3. `torch.nn.Module.load_state_dict()` - this allows to load a model's saved state dictionary"
      ],
      "metadata": {
        "id": "ZP5cPvW7n9k_"
      }
    },
    {
      "cell_type": "code",
      "source": [
        "model_0.state_dict()"
      ],
      "metadata": {
        "id": "giJjWxMSoBq9",
        "colab": {
          "base_uri": "https://localhost:8080/"
        },
        "outputId": "ef5f0b81-f617-4e1e-dc18-aadb4b22477d"
      },
      "execution_count": 53,
      "outputs": [
        {
          "output_type": "execute_result",
          "data": {
            "text/plain": [
              "OrderedDict([('weights', tensor([0.6917])), ('bias', tensor([0.2988]))])"
            ]
          },
          "metadata": {},
          "execution_count": 53
        }
      ]
    },
    {
      "cell_type": "code",
      "source": [
        "\n",
        "# Save the model\n",
        "from pathlib import Path\n",
        "\n",
        "# 1. create a mdoel directory\n",
        "MODEL_PATH = Path(\"models\")\n",
        "MODEL_PATH.mkdir(parents=True, exist_ok=True)\n",
        "\n",
        "# 2. Create a nodel save path\n",
        "\n",
        "MODEL_NAME = \"O1_pytorch_workflow_model_0.pth\"\n",
        "MODEL_SAVE_PATH = MODEL_PATH / MODEL_NAME\n",
        "\n",
        "MODEL_SAVE_PATH\n",
        "\n",
        "# Save the model with state_dict()\n",
        "torch.save(obj=model_0.state_dict(),\n",
        "           f=MODEL_SAVE_PATH)\n",
        "\n"
      ],
      "metadata": {
        "id": "uHFgcmhZpO-2"
      },
      "execution_count": 54,
      "outputs": []
    },
    {
      "cell_type": "code",
      "source": [
        "!ls -1 models"
      ],
      "metadata": {
        "colab": {
          "base_uri": "https://localhost:8080/"
        },
        "id": "ByrJ_9Qrro1g",
        "outputId": "780f7ad0-0b5e-4589-9259-6b1d27167bdc"
      },
      "execution_count": 55,
      "outputs": [
        {
          "output_type": "stream",
          "name": "stdout",
          "text": [
            "O1_pytorch_workflow_model_0.pth\n"
          ]
        }
      ]
    },
    {
      "cell_type": "code",
      "source": [
        "# Load the model\n",
        "\n",
        "loaded_model_0 = LinearRegressionModel()\n",
        "\n",
        "# load the save state_dict(() of model_0)\n",
        "\n",
        "loaded_model_0.load_state_dict(torch.load(f=MODEL_SAVE_PATH))\n",
        "\n"
      ],
      "metadata": {
        "colab": {
          "base_uri": "https://localhost:8080/"
        },
        "id": "_bhhnxf0ruIS",
        "outputId": "b7bd4e1d-efec-4a58-d9b2-00ce546636cd"
      },
      "execution_count": 56,
      "outputs": [
        {
          "output_type": "execute_result",
          "data": {
            "text/plain": [
              "<All keys matched successfully>"
            ]
          },
          "metadata": {},
          "execution_count": 56
        }
      ]
    },
    {
      "cell_type": "code",
      "source": [
        "loaded_model_0.state_dict()"
      ],
      "metadata": {
        "colab": {
          "base_uri": "https://localhost:8080/"
        },
        "id": "aD29vXvgwikD",
        "outputId": "c6048173-db6b-4a5b-fd49-1387451ac1f6"
      },
      "execution_count": 57,
      "outputs": [
        {
          "output_type": "execute_result",
          "data": {
            "text/plain": [
              "OrderedDict([('weights', tensor([0.6917])), ('bias', tensor([0.2988]))])"
            ]
          },
          "metadata": {},
          "execution_count": 57
        }
      ]
    },
    {
      "cell_type": "code",
      "source": [
        "# Make some prediction with our loaded model\n",
        "\n",
        "loaded_model_0.eval()\n",
        "\n",
        "with torch.inference_mode():\n",
        "  loaded_mode_preds = loaded_model_0(X_test)\n",
        "\n",
        "loaded_mode_preds"
      ],
      "metadata": {
        "colab": {
          "base_uri": "https://localhost:8080/"
        },
        "id": "F30-f00Hwk1H",
        "outputId": "0955a248-875f-4352-882c-8579779d2111"
      },
      "execution_count": 58,
      "outputs": [
        {
          "output_type": "execute_result",
          "data": {
            "text/plain": [
              "tensor([[0.8522]])"
            ]
          },
          "metadata": {},
          "execution_count": 58
        }
      ]
    },
    {
      "cell_type": "code",
      "source": [
        "model_0.eval()\n",
        "with torch.inference_mode():\n",
        "  y_preds = model_0(X_test)"
      ],
      "metadata": {
        "id": "Uu0nIhqzxDZ7"
      },
      "execution_count": 59,
      "outputs": []
    },
    {
      "cell_type": "code",
      "source": [
        "# Compare loaded model pred with original model preds\n",
        "y_preds == loaded_mode_preds"
      ],
      "metadata": {
        "colab": {
          "base_uri": "https://localhost:8080/"
        },
        "id": "IyxeENC9w6bK",
        "outputId": "f122ac04-6de2-4c83-d062-048f18a95b90"
      },
      "execution_count": 60,
      "outputs": [
        {
          "output_type": "execute_result",
          "data": {
            "text/plain": [
              "tensor([[True]])"
            ]
          },
          "metadata": {},
          "execution_count": 60
        }
      ]
    }
  ]
}